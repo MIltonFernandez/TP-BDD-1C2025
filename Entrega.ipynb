{
 "cells": [
  {
   "cell_type": "markdown",
   "id": "fdad3892",
   "metadata": {},
   "source": [
    "#### ¿Dónde está alojada la base de datos?\n",
    "\n",
    "La base **SQLite** está alojada localmente en un archivo llamado `mi_base.sqlite`.  \n",
    "No requiere servidor: todo ocurre de forma local.\n",
    "\n",
    "---\n",
    "\n",
    "#### ¿Qué motor de base de datos se utiliza?\n",
    "\n",
    "Se utiliza **SQLite**, un motor ligero ideal para bases de datos **pequeñas y medianas**.  \n",
    "Es embebido, no necesita configuración de servidor ni instalación adicional.\n",
    "\n",
    "---\n",
    "\n",
    "#### ¿Cómo nos conectamos a la base de datos?\n",
    "\n",
    "Se utiliza el módulo `sqlite3` de Python (incluido en la librería estándar).  \n",
    "La conexión se realiza con:\n",
    "\n",
    "```python\n",
    "conn = sqlite3.connect(\"mi_base.sqlite\")\n",
    "\n",
    "conn.execute(...)         # Para comandos directos\n",
    "pd.read_sql(query, conn)  # Para cargar resultados como DataFrame"
   ]
  },
  {
   "cell_type": "code",
   "execution_count": 28,
   "id": "b5d9a9fd",
   "metadata": {},
   "outputs": [
    {
     "name": "stdout",
     "output_type": "stream",
     "text": [
      "                         id  start_date    end_date  created_on    latitud  \\\n",
      "0  XZq2dFGxBiboHY3Bo/tqlw==  2021-09-09  2022-01-27  2021-09-09 -38.957632   \n",
      "1  8afoK+yMH/rnnlYiktwgNA==  2021-09-09  2021-10-23  2021-09-09 -34.888878   \n",
      "2  iVaG5rBB47dd1Ya4BMXREA==  2021-09-09  2022-03-09  2021-09-09 -32.488717   \n",
      "3  QE1QVMWKAHWkd0qT0FtPWA==  2021-09-09  2022-01-27  2021-09-09 -34.900165   \n",
      "4  tJ5lSk7IysG/71OGhacNZA==  2021-09-09  2022-01-27  2021-09-09 -38.954528   \n",
      "\n",
      "    longitud    place_l2 place_l3 place_l4 place_l5 place_l6 operation  \\\n",
      "0 -68.105443     Neuquén     None     None     None     None     Venta   \n",
      "1 -56.092368  Montevideo     None     None     None     None     Venta   \n",
      "2 -58.257499  Entre Ríos     None     None     None     None     Venta   \n",
      "3 -54.808453   Maldonado     None     None     None     None     Venta   \n",
      "4 -68.041862     Neuquén     None     None     None     None     Venta   \n",
      "\n",
      "  property_type  property_rooms  property_bedrooms  property_surface_total  \\\n",
      "0          Casa             6.0                NaN                     NaN   \n",
      "1          Casa             4.0                3.0                   193.0   \n",
      "2          Casa             NaN                NaN                   110.0   \n",
      "3          Casa             NaN                3.0                     NaN   \n",
      "4            PH             3.0                2.0                     NaN   \n",
      "\n",
      "   property_surface_covered  property_price property_currency  \\\n",
      "0                     206.0             NaN              None   \n",
      "1                     193.0        390000.0               USD   \n",
      "2                      45.0         47000.0               USD   \n",
      "3                     180.0        400000.0               USD   \n",
      "4                      98.0        102000.0               USD   \n",
      "\n",
      "       property_title  \n",
      "0      Casa - Capital  \n",
      "1       Casa - Malvín  \n",
      "2      Casa - Uruguay  \n",
      "3    Casa - El Chorro  \n",
      "4  PH - Villa Farrell  \n"
     ]
    }
   ],
   "source": [
    "import sqlite3\n",
    "import pandas as pd\n",
    "\n",
    "# Mostrar todas las columnas al imprimir\n",
    "pd.set_option('display.max_columns', None)\n",
    "\n",
    "# Leer CSV con pandas\n",
    "df = pd.read_csv(\"./archive/properati_argentina_2021.csv\")\n",
    "\n",
    "# Conectar (o crear) base SQLite local\n",
    "conn = sqlite3.connect(':memory:')\n",
    "\n",
    "# Cargar el DataFrame a una tabla llamada 'alquileres'\n",
    "df.to_sql('alquileres', conn, if_exists='replace', index=False)\n",
    "\n",
    "# Consultar las primeras 5 filas con SQL\n",
    "query = \"SELECT * FROM alquileres LIMIT 5;\"\n",
    "df_head = pd.read_sql(query, conn)\n",
    "\n",
    "print(df_head)\n"
   ]
  },
  {
   "cell_type": "markdown",
   "id": "bd04bc04",
   "metadata": {},
   "source": [
    "Realizamos un análisis porcentual de datos faltantes por columna, teniendo en cuenta el siguiente criterio:\n",
    "\n",
    "\n",
    "| % de valores faltantes | Acción                    |\n",
    "|------------------------|-----------------------------------------------------|\n",
    "| > 50%                  | Eliminar la columna                                 |\n",
    "| 20% - 50%              | Evaluar si imputar o conservar según relevancia     |\n",
    "| < 20%                  | Imputar los valores faltantes                       |\n",
    "| 0% - 5%                | No es preocupante |\n"
   ]
  },
  {
   "cell_type": "code",
   "execution_count": 29,
   "id": "11fb7b4d",
   "metadata": {},
   "outputs": [
    {
     "name": "stdout",
     "output_type": "stream",
     "text": [
      "id                            0.0 %\n",
      "start_date                    0.0 %\n",
      "end_date                      0.0 %\n",
      "created_on                    0.0 %\n",
      "latitud                      8.78 %\n",
      "longitud                     8.78 %\n",
      "place_l2                      0.0 %\n",
      "place_l3                     4.89 %\n",
      "place_l4                    69.79 %\n",
      "place_l5                    99.47 %\n",
      "place_l6                    100.0 %\n",
      "operation                     0.0 %\n",
      "property_type                 0.0 %\n",
      "property_rooms              19.92 %\n",
      "property_bedrooms           25.22 %\n",
      "property_surface_total      13.55 %\n",
      "property_surface_covered     7.01 %\n",
      "property_price               3.91 %\n",
      "property_currency            4.03 %\n",
      "property_title                0.0 %\n",
      "dtype: object\n"
     ]
    }
   ],
   "source": [
    "filas_totales = df.shape[0]\n",
    "porcentaje_faltante_columna = (df.isna().sum() / filas_totales) * 100\n",
    "\n",
    "# Imprime los porcentajes de faltantes por columna\n",
    "print((porcentaje_faltante_columna.round(2).astype(str) + \" %\"))\n"
   ]
  },
  {
   "cell_type": "markdown",
   "id": "2a7da5fb",
   "metadata": {},
   "source": [
    "Análisis porcentual de datos faltantes por fila"
   ]
  },
  {
   "cell_type": "code",
   "execution_count": 30,
   "id": "bd93ff60",
   "metadata": {},
   "outputs": [
    {
     "name": "stdout",
     "output_type": "stream",
     "text": [
      "0         40.0 %\n",
      "1         20.0 %\n",
      "2         30.0 %\n",
      "3         30.0 %\n",
      "4         25.0 %\n",
      "           ...  \n",
      "460149    25.0 %\n",
      "460150    20.0 %\n",
      "460151    35.0 %\n",
      "460152    40.0 %\n",
      "460153    20.0 %\n",
      "Length: 460154, dtype: object\n"
     ]
    }
   ],
   "source": [
    "filas_totales = df.shape[1]  # número de columnas\n",
    "\n",
    "porcentaje_faltante_fila = (df.isna().sum(axis=1) / filas_totales) * 100\n",
    "\n",
    "print(porcentaje_faltante_fila.round(2).astype(str) + \" %\")"
   ]
  },
  {
   "cell_type": "code",
   "execution_count": 31,
   "id": "511014cc",
   "metadata": {},
   "outputs": [
    {
     "data": {
      "image/png": "[encoded data removed]",
      "text/plain": [
       "<Figure size 800x500 with 1 Axes>"
      ]
     },
     "metadata": {},
     "output_type": "display_data"
    }
   ],
   "source": [
    "import matplotlib.pyplot as plt\n",
    "\n",
    "filas_totales = df.shape[1]  # número de columnas\n",
    "\n",
    "porcentaje_faltante_fila = (df.isna().sum(axis=1) / filas_totales) * 100\n",
    "\n",
    "plt.figure(figsize=(8,5))\n",
    "plt.hist(porcentaje_faltante_fila, bins=20, color='skyblue', edgecolor='black')\n",
    "plt.title('Histograma del % de datos faltantes por fila')\n",
    "plt.xlabel('Porcentaje de datos faltantes (%)')\n",
    "plt.ylabel('Cantidad de filas')\n",
    "plt.grid(axis='y', alpha=0.75)\n",
    "plt.show()"
   ]
  },
  {
   "cell_type": "markdown",
   "id": "7bac2c4f",
   "metadata": {},
   "source": [
    "Selecciono las columnas con las que me interesa trabajar y además descarto las columnas con % de faltante mayor al 50%"
   ]
  },
  {
   "cell_type": "code",
   "execution_count": 32,
   "id": "4bcfa3f2",
   "metadata": {},
   "outputs": [],
   "source": [
    "query = \"\"\"\n",
    "SELECT \n",
    "    latitud,\n",
    "    longitud,\n",
    "    place_l2,\n",
    "    place_l3,\n",
    "    operation,\n",
    "    property_type,\n",
    "    property_rooms,\n",
    "    property_bedrooms,\n",
    "    property_surface_total,\n",
    "    property_surface_covered,\n",
    "    property_price,\n",
    "    property_currency,\n",
    "    property_title\n",
    "FROM alquileres;\n",
    "\"\"\"\n",
    "\n",
    "df = pd.read_sql(query, conn)\n"
   ]
  },
  {
   "cell_type": "markdown",
   "id": "a88bf3cd",
   "metadata": {},
   "source": [
    "### Análisis de Outliers"
   ]
  },
  {
   "cell_type": "markdown",
   "id": "a8d0ff58",
   "metadata": {},
   "source": [
    "Procedemos a hacer un análisis de outliers en la variable \"precio\", para esto calculamos el primer cuartil (Q1) y el tercer cuartil (Q3) de la distribución de precios, y a partir de ellos obtenemos el rango intercuartílico (IQR = Q3 - Q1).\n",
    "\n",
    "Luego, extraemos las filas donde el precio está fuera de estos límites (por debajo del límite inferior o por encima del superior) para identificar los valores extremos."
   ]
  },
  {
   "cell_type": "code",
   "execution_count": 33,
   "id": "103fb39c",
   "metadata": {},
   "outputs": [
    {
     "name": "stdout",
     "output_type": "stream",
     "text": [
      "Límite inferior: -186250.0, Límite superior: 430150.0\n"
     ]
    }
   ],
   "source": [
    "# Calcular Q1 y Q3 de la columna 'precio'\n",
    "q1 = df['property_price'].quantile(0.25)\n",
    "q3 = df['property_price'].quantile(0.75)\n",
    "iqr = q3 - q1\n",
    "\n",
    "# Calcular límites para detectar outliers\n",
    "lower_bound = q1 - 1.5 * iqr\n",
    "upper_bound = q3 + 1.5 * iqr\n",
    "\n",
    "print(f\"Límite inferior: {lower_bound}, Límite superior: {upper_bound}\")\n",
    "\n",
    "query = f\"\"\"\n",
    "SELECT *\n",
    "FROM alquileres\n",
    "WHERE property_price < {lower_bound} OR property_price > {upper_bound}\n",
    "\"\"\"\n",
    "outliers_df = pd.read_sql(query, conn)"
   ]
  },
  {
   "cell_type": "markdown",
   "id": "9f90c5eb",
   "metadata": {},
   "source": [
    "Grafico el IQR (que representa la dispersión central del conjunto de datos):"
   ]
  },
  {
   "cell_type": "code",
   "execution_count": 34,
   "id": "79ea522a",
   "metadata": {},
   "outputs": [
    {
     "data": {
      "image/png": "[encoded data removed]",
      "text/plain": [
       "<Figure size 1000x500 with 1 Axes>"
      ]
     },
     "metadata": {},
     "output_type": "display_data"
    }
   ],
   "source": [
    "import seaborn as sns\n",
    "import matplotlib.pyplot as plt\n",
    "\n",
    "plt.figure(figsize=(10, 5))\n",
    "sns.boxplot(x=df['property_price'])\n",
    "plt.title('Boxplot de Precio')\n",
    "plt.xlabel('Precio')\n",
    "plt.show()"
   ]
  },
  {
   "cell_type": "markdown",
   "id": "a35dfd4b",
   "metadata": {},
   "source": [
    "Nota: Seguir limpiando en torno a los outliers"
   ]
  },
  {
   "cell_type": "markdown",
   "id": "690707b3",
   "metadata": {},
   "source": [
    "### Analisis de inconsistencias"
   ]
  },
  {
   "cell_type": "markdown",
   "id": "89068ade",
   "metadata": {},
   "source": [
    "Realizamos un análisis de datos incoherentes en nuestro dataset y vemos cuantos nos afectaría eliminar dichos datos, en particular, los datos a analizar serían los siguientes:"
   ]
  },
  {
   "cell_type": "markdown",
   "id": "1a837eb1",
   "metadata": {},
   "source": [
    "1. Registros sin rooms y sin superficie total válida.\n",
    "\n",
    "2. Registros con cantidad máxima de habitantes negativa.\n",
    "\n",
    "3. Registros sin dormitorios pero con más de un ambiente.\n",
    "\n",
    "4. Registros donde la superficie útil supera a la total por más de 1 m².\n",
    "\n",
    "5. Registros con superficie total y útil menor o igual a cero.\n",
    "\n",
    "6. Registros con más dormitorios que ambientes + 2.\n",
    "\n",
    "7. Registros con ambientes pero sin datos de superficie (útil o total)."
   ]
  },
  {
   "cell_type": "code",
   "execution_count": 35,
   "id": "0012070c",
   "metadata": {},
   "outputs": [
    {
     "name": "stdout",
     "output_type": "stream",
     "text": [
      "Registros eliminados: 66352 (14.42%)\n"
     ]
    }
   ],
   "source": [
    "# Contar registros antes\n",
    "cursor = conn.execute(\"SELECT COUNT(*) FROM alquileres\")\n",
    "total_antes = cursor.fetchone()[0]\n",
    "\n",
    "# Eliminar inconsistencias\n",
    "query_delete_inconsistencias = \"\"\"\n",
    "DELETE FROM alquileres\n",
    "WHERE\n",
    "    property_rooms < 1 AND (property_surface_total IS NULL OR property_surface_total <= 0)\n",
    "    OR (property_bedrooms = 0 AND property_rooms > 1)\n",
    "    OR (property_surface_total - property_surface_covered < 0 AND ABS(property_surface_total - property_surface_covered) > 1)\n",
    "    OR property_surface_total <= 0 \n",
    "    OR property_surface_covered <= 0\n",
    "    OR property_bedrooms > property_rooms + 2\n",
    "    OR (property_rooms > 0 AND (property_surface_covered IS NULL OR property_surface_total IS NULL))\n",
    "    OR property_price = 0;\n",
    "\"\"\"\n",
    "conn.execute(query_delete_inconsistencias)\n",
    "conn.commit()\n",
    "\n",
    "# Contar registros después\n",
    "cursor = conn.execute(\"SELECT COUNT(*) FROM alquileres\")\n",
    "total_despues = cursor.fetchone()[0]\n",
    "\n",
    "# Cargar DataFrame filtrado\n",
    "query_filtrado = \"SELECT * FROM alquileres\"\n",
    "df_filtrado = pd.read_sql(query_filtrado, conn)\n",
    "\n",
    "# Calcular y mostrar porcentaje eliminado\n",
    "eliminados = total_antes - total_despues\n",
    "porcentaje_eliminado = (eliminados / total_antes) * 100 if total_antes > 0 else 0\n",
    "\n",
    "print(f\"Registros eliminados: {eliminados} ({porcentaje_eliminado:.2f}%)\")"
   ]
  },
  {
   "cell_type": "markdown",
   "id": "4f03b183",
   "metadata": {},
   "source": [
    "Observamos que eliminamos aproximadamente un 15% de los datos, lo cual nos parece aceptable para nuestra transformación posterior"
   ]
  },
  {
   "cell_type": "markdown",
   "id": "629fe577",
   "metadata": {},
   "source": [
    "### Normalización de datos"
   ]
  },
  {
   "cell_type": "markdown",
   "id": "f25db5da",
   "metadata": {},
   "source": [
    "Analizamos que las columnas place_l2 y place_l3 estén siempre bien escritas. Por ejemplo que no haya diferencias del estilo 'laplata', 'La plata', 'La Plata', etc"
   ]
  },
  {
   "cell_type": "code",
   "execution_count": 37,
   "id": "8f7091bd",
   "metadata": {},
   "outputs": [
    {
     "name": "stdout",
     "output_type": "stream",
     "text": [
      "Pilar: ['Pilar', 'Pila']\n",
      "Flores: ['Flores', 'Floresta']\n",
      "Barracas: ['Barracas', 'Barrancas']\n",
      "Monteros: ['Monteros', 'Morteros']\n",
      "La Caldera: ['La Caldera', 'La Calera']\n",
      "Gualeguaychú: ['Gualeguaychú', 'Gualeguay']\n",
      "San Cristobal: ['San Cristobal', 'San Cristóbal']\n",
      "General San Martín: ['General San Martín', 'Villa General San Martín']\n",
      "Las Tapias: ['Las Tapias', 'Las Talitas']\n",
      "Capilla del Rosario: ['Capilla del Rosario', 'Villa del Rosario']\n",
      "Cariló: ['Cariló', 'Catriló']\n",
      "San Antonio de Areco: ['San Antonio de Areco', 'San Antonio de Arredondo']\n",
      "General Alvear: ['General Alvear', 'General Alvarado']\n",
      "Villa de María: ['Villa de María', 'Villa María']\n"
     ]
    }
   ],
   "source": [
    "from rapidfuzz import fuzz, process\n",
    "import pandas as pd\n",
    "\n",
    "# Obtener valores únicos de place_l3\n",
    "valores = pd.read_sql(\"SELECT DISTINCT place_l3 FROM alquileres WHERE place_l3 IS NOT NULL\", conn)\n",
    "valores_unicos = valores['place_l3'].dropna().unique()\n",
    "\n",
    "# Agrupar similares\n",
    "grupos_similares = {}\n",
    "\n",
    "for val in valores_unicos:\n",
    "    if any(val in g for g in grupos_similares.values()):\n",
    "        continue\n",
    "    similares = [v for v in valores_unicos if fuzz.ratio(val, v) >= 85]\n",
    "    grupos_similares[val] = similares\n",
    "\n",
    "# Mostrar grupos\n",
    "for clave, grupo in grupos_similares.items():\n",
    "    if len(grupo) > 1:\n",
    "        print(f\"{clave}: {grupo}\")"
   ]
  },
  {
   "cell_type": "markdown",
   "id": "4015aea0",
   "metadata": {},
   "source": [
    "Vemos que hay valores por corregir..."
   ]
  }
 ],
 "metadata": {
  "kernelspec": {
   "display_name": "Python 3",
   "language": "python",
   "name": "python3"
  },
  "language_info": {
   "codemirror_mode": {
    "name": "ipython",
    "version": 3
   },
   "file_extension": ".py",
   "mimetype": "text/x-python",
   "name": "python",
   "nbconvert_exporter": "python",
   "pygments_lexer": "ipython3",
   "version": "3.13.3"
  }
 },
 "nbformat": 4,
 "nbformat_minor": 5
}
