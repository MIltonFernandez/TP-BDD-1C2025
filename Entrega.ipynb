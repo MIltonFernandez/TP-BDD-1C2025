{
 "cells": [
  {
   "cell_type": "markdown",
   "id": "fdad3892",
   "metadata": {},
   "source": [
    "#### ¿Dónde está alojada la base de datos?\n",
    "\n",
    "La base **SQLite** está alojada localmente en un archivo llamado `mi_base.sqlite`.  \n",
    "No requiere servidor: todo ocurre de forma local.\n",
    "\n",
    "---\n",
    "\n",
    "#### ¿Qué motor de base de datos se utiliza?\n",
    "\n",
    "Se utiliza **SQLite**, un motor ligero ideal para bases de datos **pequeñas y medianas**.  \n",
    "Es embebido, no necesita configuración de servidor ni instalación adicional.\n",
    "\n",
    "---\n",
    "\n",
    "#### ¿Cómo nos conectamos a la base de datos?\n",
    "\n",
    "Se utiliza el módulo `sqlite3` de Python (incluido en la librería estándar).  \n",
    "La conexión se realiza con:\n",
    "\n",
    "```python\n",
    "conn = sqlite3.connect(\"mi_base.sqlite\")\n",
    "\n",
    "conn.execute(...)         # Para comandos directos\n",
    "pd.read_sql(query, conn)  # Para cargar resultados como DataFrame"
   ]
  },
  {
   "cell_type": "code",
   "execution_count": 283,
   "id": "b5d9a9fd",
   "metadata": {},
   "outputs": [
    {
     "name": "stdout",
     "output_type": "stream",
     "text": [
      "                          id  start_date    end_date  created_on    latitud  \\\n",
      "0   XZq2dFGxBiboHY3Bo/tqlw==  2021-09-09  2022-01-27  2021-09-09 -38.957632   \n",
      "1   8afoK+yMH/rnnlYiktwgNA==  2021-09-09  2021-10-23  2021-09-09 -34.888878   \n",
      "2   iVaG5rBB47dd1Ya4BMXREA==  2021-09-09  2022-03-09  2021-09-09 -32.488717   \n",
      "3   QE1QVMWKAHWkd0qT0FtPWA==  2021-09-09  2022-01-27  2021-09-09 -34.900165   \n",
      "4   tJ5lSk7IysG/71OGhacNZA==  2021-09-09  2022-01-27  2021-09-09 -38.954528   \n",
      "5   F9tamlHF5c8kGM6XRTsCKQ==  2021-09-09  2022-01-27  2021-09-09 -34.859680   \n",
      "6   NqZ7NCaGZKarCdU/V0vHfw==  2021-09-09  2021-09-14  2021-09-09        NaN   \n",
      "7   gRTl4HxCqiGIwGRq0r1oag==  2021-09-09  2022-01-05  2021-09-09        NaN   \n",
      "8   Y8n0DpI7wgglQ6QISaTB4g==  2021-09-09  2021-09-10  2021-09-09 -34.901935   \n",
      "9   HMt6tiEI+xILu5W6cjGdiw==  2021-09-09  2021-10-28  2021-09-09 -34.866268   \n",
      "10  Fygm+8UhdUE+YJPBjTgz/A==  2021-09-09  2022-01-27  2021-09-09 -31.365005   \n",
      "11  tKR6OiTB7vXHDojuj3iPuQ==  2021-09-09  2021-09-29  2021-09-09 -32.885879   \n",
      "12  tYkUk7mVGybbvOFWeq0AFQ==  2021-09-09  2022-03-25  2021-09-09 -32.864537   \n",
      "13  FOSzlyAxk1Tu1fX491zubA==  2021-09-09  2022-01-27  2021-09-09 -38.953796   \n",
      "14  szQrC6JWZSV2C7CBwg7GDQ==  2021-09-09  2021-09-12  2021-09-09 -34.902032   \n",
      "\n",
      "     longitud                  place_l2 place_l3 place_l4 place_l5 place_l6  \\\n",
      "0  -68.105443                   Neuquén     None     None     None     None   \n",
      "1  -56.092368                Montevideo     None     None     None     None   \n",
      "2  -58.257499                Entre Ríos     None     None     None     None   \n",
      "3  -54.808453                 Maldonado     None     None     None     None   \n",
      "4  -68.041862                   Neuquén     None     None     None     None   \n",
      "5  -56.195410                Montevideo     None     None     None     None   \n",
      "6         NaN  Bs.As. G.B.A. Zona Norte     None     None     None     None   \n",
      "7         NaN  Bs.As. G.B.A. Zona Norte     None     None     None     None   \n",
      "8  -56.183708                Montevideo     None     None     None     None   \n",
      "9  -56.092273                Montevideo     None     None     None     None   \n",
      "10 -64.256128                   Córdoba     None     None     None     None   \n",
      "11 -68.846067                   Mendoza     None     None     None     None   \n",
      "12 -68.777741                   Mendoza     None     None     None     None   \n",
      "13 -68.048107                   Neuquén     None     None     None     None   \n",
      "14 -56.151793                Montevideo     None     None     None     None   \n",
      "\n",
      "   operation property_type  property_rooms  property_bedrooms  \\\n",
      "0      Venta          Casa             6.0                NaN   \n",
      "1      Venta          Casa             4.0                3.0   \n",
      "2      Venta          Casa             NaN                NaN   \n",
      "3      Venta          Casa             NaN                3.0   \n",
      "4      Venta            PH             3.0                2.0   \n",
      "5      Venta  Departamento             3.0                2.0   \n",
      "6      Venta          Casa             5.0                3.0   \n",
      "7      Venta          Casa             7.0                3.0   \n",
      "8   Alquiler  Departamento             5.0                2.0   \n",
      "9   Alquiler          Casa             5.0                2.0   \n",
      "10     Venta          Casa             NaN                2.0   \n",
      "11     Venta  Departamento             NaN                1.0   \n",
      "12     Venta          Lote             NaN                NaN   \n",
      "13     Venta          Casa             3.0                2.0   \n",
      "14  Alquiler  Departamento             6.0                3.0   \n",
      "\n",
      "    property_surface_total  property_surface_covered  property_price  \\\n",
      "0                      NaN                     206.0             NaN   \n",
      "1                    193.0                     193.0        390000.0   \n",
      "2                    110.0                      45.0         47000.0   \n",
      "3                      NaN                     180.0        400000.0   \n",
      "4                      NaN                      98.0        102000.0   \n",
      "5                     54.0                      54.0        189900.0   \n",
      "6                    294.0                     254.0        249000.0   \n",
      "7                    462.0                     308.0        460000.0   \n",
      "8                     60.0                      60.0         26760.0   \n",
      "9                     70.0                      70.0         19000.0   \n",
      "10                   184.0                     184.0        210000.0   \n",
      "11                    45.0                      45.0         25000.0   \n",
      "12                  1657.0                    1657.0         34000.0   \n",
      "13                     NaN                      98.0        123000.0   \n",
      "14                    70.0                      68.0         28500.0   \n",
      "\n",
      "   property_currency               property_title  \n",
      "0               None               Casa - Capital  \n",
      "1                USD                Casa - Malvín  \n",
      "2                USD               Casa - Uruguay  \n",
      "3                USD             Casa - El Chorro  \n",
      "4                USD           PH - Villa Farrell  \n",
      "5                USD          Apartamento - Prado  \n",
      "6                USD          Casa - Los Cardales  \n",
      "7                USD          Casa - Los Cardales  \n",
      "8                UYU         Apartamento - Cordón  \n",
      "9                UYU        Casa - Carrasco Norte  \n",
      "10               USD        Casa - Villa Belgrano  \n",
      "11               USD       Departamento - Capital  \n",
      "12               USD     Lote en Venta en Bermejo  \n",
      "13               USD     Casa - Área Centro Este   \n",
      "14               UYU  Apartamento - Parque Batlle  \n"
     ]
    }
   ],
   "source": [
    "import sqlite3\n",
    "import pandas as pd\n",
    "\n",
    "# Mostrar todas las columnas al imprimir\n",
    "pd.set_option('display.max_columns', None)\n",
    "\n",
    "# Leer CSV con pandas\n",
    "df = pd.read_csv(\"./archive/properati_argentina_2021.csv\")\n",
    "\n",
    "# Conectar (o crear) base SQLite local\n",
    "conn = sqlite3.connect(':memory:')\n",
    "\n",
    "# Cargar el DataFrame a una tabla llamada 'alquileres'\n",
    "df.to_sql('alquileres', conn, if_exists='replace', index=False)\n",
    "\n",
    "# Consultar las primeras 5 filas con SQL\n",
    "query = \"SELECT * FROM alquileres LIMIT 15;\"\n",
    "df_head = pd.read_sql(query, conn)\n",
    "\n",
    "print(df_head)\n"
   ]
  },
  {
   "cell_type": "markdown",
   "id": "bd04bc04",
   "metadata": {},
   "source": [
    "Realizamos un análisis porcentual de datos faltantes por columna, teniendo en cuenta el siguiente criterio:\n",
    "\n",
    "\n",
    "| % de valores faltantes | Acción                    |\n",
    "|------------------------|-----------------------------------------------------|\n",
    "| > 50%                  | Eliminar la columna                                 |\n",
    "| 20% - 50%              | Evaluar si imputar o conservar según relevancia     |\n",
    "| < 20%                  | Imputar los valores faltantes                       |\n",
    "| 0% - 5%                | No es preocupante |\n"
   ]
  },
  {
   "cell_type": "code",
   "execution_count": 263,
   "id": "11fb7b4d",
   "metadata": {},
   "outputs": [
    {
     "name": "stdout",
     "output_type": "stream",
     "text": [
      "id                            0.0 %\n",
      "start_date                    0.0 %\n",
      "end_date                      0.0 %\n",
      "created_on                    0.0 %\n",
      "latitud                      8.78 %\n",
      "longitud                     8.78 %\n",
      "place_l2                      0.0 %\n",
      "place_l3                     4.89 %\n",
      "place_l4                    69.79 %\n",
      "place_l5                    99.47 %\n",
      "place_l6                    100.0 %\n",
      "operation                     0.0 %\n",
      "property_type                 0.0 %\n",
      "property_rooms              19.92 %\n",
      "property_bedrooms           25.22 %\n",
      "property_surface_total      13.55 %\n",
      "property_surface_covered     7.01 %\n",
      "property_price               3.91 %\n",
      "property_currency            4.03 %\n",
      "property_title                0.0 %\n",
      "dtype: object\n"
     ]
    }
   ],
   "source": [
    "filas_totales = df.shape[0]\n",
    "porcentaje_faltante_columna = (df.isna().sum() / filas_totales) * 100\n",
    "\n",
    "# Imprime los porcentajes de faltantes por columna\n",
    "print((porcentaje_faltante_columna.round(2).astype(str) + \" %\"))\n"
   ]
  },
  {
   "cell_type": "markdown",
   "id": "c192768c",
   "metadata": {},
   "source": [
    "Elimino duplicados"
   ]
  },
  {
   "cell_type": "code",
   "execution_count": 264,
   "id": "4df5aff1",
   "metadata": {},
   "outputs": [
    {
     "name": "stdout",
     "output_type": "stream",
     "text": [
      "Registros después de eliminar duplicados: 403118\n",
      "Registros eliminados: 57036 (12.39%)\n"
     ]
    }
   ],
   "source": [
    "# Eliminar duplicados en la tabla SQLite usando SQL y mostrar porcentaje eliminado\n",
    "\n",
    "# Contar registros antes\n",
    "total_antes = pd.read_sql(\"SELECT COUNT(*) as c FROM alquileres\", conn)['c'][0]\n",
    "\n",
    "# Eliminar duplicados en la tabla 'alquileres'\n",
    "sql = \"\"\"\n",
    "DELETE FROM alquileres\n",
    "WHERE rowid NOT IN (\n",
    "    SELECT MIN(rowid)\n",
    "    FROM alquileres\n",
    "    GROUP BY property_title, place_l2, place_l3, property_price, property_type, latitud, longitud\n",
    ");\n",
    "\"\"\"\n",
    "conn.executescript(sql)\n",
    "conn.commit()\n",
    "\n",
    "# Contar registros después y recargar DataFrame\n",
    "total_despues = pd.read_sql(\"SELECT COUNT(*) as c FROM alquileres\", conn)['c'][0]\n",
    "df = pd.read_sql(\"SELECT * FROM alquileres\", conn)\n",
    "\n",
    "eliminados = total_antes - total_despues\n",
    "porcentaje_eliminado = (eliminados / total_antes) * 100 if total_antes > 0 else 0\n",
    "\n",
    "print(f\"Registros después de eliminar duplicados: {total_despues}\")\n",
    "print(f\"Registros eliminados: {eliminados} ({porcentaje_eliminado:.2f}%)\")"
   ]
  },
  {
   "cell_type": "markdown",
   "id": "2a7da5fb",
   "metadata": {},
   "source": [
    "Análisis porcentual de datos faltantes por fila"
   ]
  },
  {
   "cell_type": "code",
   "execution_count": 265,
   "id": "bd93ff60",
   "metadata": {},
   "outputs": [
    {
     "name": "stdout",
     "output_type": "stream",
     "text": [
      "0         40.0 %\n",
      "1         20.0 %\n",
      "2         30.0 %\n",
      "3         30.0 %\n",
      "4         25.0 %\n",
      "           ...  \n",
      "403113    20.0 %\n",
      "403114    20.0 %\n",
      "403115    35.0 %\n",
      "403116    40.0 %\n",
      "403117    20.0 %\n",
      "Length: 403118, dtype: object\n"
     ]
    }
   ],
   "source": [
    "filas_totales = df.shape[1]  # número de columnas\n",
    "\n",
    "porcentaje_faltante_fila = (df.isna().sum(axis=1) / filas_totales) * 100\n",
    "\n",
    "print(porcentaje_faltante_fila.round(2).astype(str) + \" %\")"
   ]
  },
  {
   "cell_type": "code",
   "execution_count": 266,
   "id": "511014cc",
   "metadata": {},
   "outputs": [
    {
     "data": {
      "image/png": "[encoded data removed]",
      "text/plain": [
       "<Figure size 800x500 with 1 Axes>"
      ]
     },
     "metadata": {},
     "output_type": "display_data"
    }
   ],
   "source": [
    "import matplotlib.pyplot as plt\n",
    "\n",
    "filas_totales = df.shape[1]  # número de columnas\n",
    "\n",
    "porcentaje_faltante_fila = (df.isna().sum(axis=1) / filas_totales) * 100\n",
    "\n",
    "plt.figure(figsize=(8,5))\n",
    "plt.hist(porcentaje_faltante_fila, bins=20, color='skyblue', edgecolor='black')\n",
    "plt.title('Histograma del % de datos faltantes por fila')\n",
    "plt.xlabel('Porcentaje de datos faltantes (%)')\n",
    "plt.ylabel('Cantidad de filas')\n",
    "plt.grid(axis='y', alpha=0.75)\n",
    "plt.show()"
   ]
  },
  {
   "cell_type": "markdown",
   "id": "7bac2c4f",
   "metadata": {},
   "source": [
    "Selecciono las columnas con las que me interesa trabajar y además descarto las columnas con % de faltante mayor al 50%"
   ]
  },
  {
   "cell_type": "code",
   "execution_count": 267,
   "id": "4bcfa3f2",
   "metadata": {},
   "outputs": [],
   "source": [
    "query = \"\"\"\n",
    "SELECT \n",
    "    latitud,\n",
    "    longitud,\n",
    "    place_l2,\n",
    "    place_l3,\n",
    "    operation,\n",
    "    property_type,\n",
    "    property_rooms,\n",
    "    property_bedrooms,\n",
    "    property_surface_total,\n",
    "    property_surface_covered,\n",
    "    property_price,\n",
    "    property_currency,\n",
    "    property_title\n",
    "FROM alquileres;\n",
    "\"\"\"\n",
    "\n",
    "df = pd.read_sql(query, conn)\n"
   ]
  },
  {
   "cell_type": "markdown",
   "id": "a88bf3cd",
   "metadata": {},
   "source": [
    "### Análisis de Outliers"
   ]
  },
  {
   "cell_type": "markdown",
   "id": "a8d0ff58",
   "metadata": {},
   "source": [
    "Procedemos a hacer un análisis de outliers en la variable \"precio\", para esto calculamos el primer cuartil (Q1) y el tercer cuartil (Q3) de la distribución de precios, y a partir de ellos obtenemos el rango intercuartílico (IQR = Q3 - Q1).\n",
    "\n",
    "Luego, extraemos las filas donde el precio está fuera de estos límites (por debajo del límite inferior o por encima del superior) para identificar los valores extremos."
   ]
  },
  {
   "cell_type": "code",
   "execution_count": 268,
   "id": "103fb39c",
   "metadata": {},
   "outputs": [
    {
     "name": "stdout",
     "output_type": "stream",
     "text": [
      "Límite inferior: -184500.0, Límite superior: 427500.0\n"
     ]
    }
   ],
   "source": [
    "# Calcular Q1 y Q3 de la columna 'precio'\n",
    "q1 = df['property_price'].quantile(0.25)\n",
    "q3 = df['property_price'].quantile(0.75)\n",
    "iqr = q3 - q1\n",
    "\n",
    "# Calcular límites para detectar outliers\n",
    "lower_bound = q1 - 1.5 * iqr\n",
    "upper_bound = q3 + 1.5 * iqr\n",
    "\n",
    "print(f\"Límite inferior: {lower_bound}, Límite superior: {upper_bound}\")\n",
    "\n",
    "query = f\"\"\"\n",
    "SELECT *\n",
    "FROM alquileres\n",
    "WHERE property_price < {lower_bound} OR property_price > {upper_bound}\n",
    "\"\"\"\n",
    "outliers_df = pd.read_sql(query, conn)"
   ]
  },
  {
   "cell_type": "markdown",
   "id": "9f90c5eb",
   "metadata": {},
   "source": [
    "Grafico el IQR (que representa la dispersión central del conjunto de datos):"
   ]
  },
  {
   "cell_type": "code",
   "execution_count": 269,
   "id": "79ea522a",
   "metadata": {},
   "outputs": [
    {
     "data": {
      "image/png": "[encoded data removed]",
      "text/plain": [
       "<Figure size 1000x500 with 1 Axes>"
      ]
     },
     "metadata": {},
     "output_type": "display_data"
    }
   ],
   "source": [
    "import seaborn as sns\n",
    "import matplotlib.pyplot as plt\n",
    "\n",
    "plt.figure(figsize=(10, 5))\n",
    "sns.boxplot(x=df['property_price'])\n",
    "plt.title('Boxplot de Precio')\n",
    "plt.xlabel('Precio')\n",
    "plt.show()"
   ]
  },
  {
   "cell_type": "markdown",
   "id": "a35dfd4b",
   "metadata": {},
   "source": [
    "Nota: Seguir limpiando en torno a los outliers"
   ]
  },
  {
   "cell_type": "markdown",
   "id": "690707b3",
   "metadata": {},
   "source": [
    "### Analisis de inconsistencias"
   ]
  },
  {
   "cell_type": "markdown",
   "id": "89068ade",
   "metadata": {},
   "source": [
    "Realizamos un análisis de datos incoherentes en nuestro dataset y vemos cuantos nos afectaría eliminar dichos datos, en particular, los datos a analizar serían los siguientes:"
   ]
  },
  {
   "cell_type": "markdown",
   "id": "1a837eb1",
   "metadata": {},
   "source": [
    "1. Registros sin rooms y sin superficie total válida.\n",
    "\n",
    "2. Registros con cantidad máxima de habitantes negativa.\n",
    "\n",
    "3. Registros sin dormitorios pero con más de un ambiente.\n",
    "\n",
    "4. Registros donde la superficie útil supera a la total por más de 1 m².\n",
    "\n",
    "5. Registros con superficie total y útil menor o igual a cero.\n",
    "\n",
    "6. Registros con más dormitorios que ambientes + 2.\n",
    "\n",
    "7. Registros con ambientes pero sin datos de superficie (útil o total)."
   ]
  },
  {
   "cell_type": "code",
   "execution_count": 270,
   "id": "0012070c",
   "metadata": {},
   "outputs": [
    {
     "name": "stdout",
     "output_type": "stream",
     "text": [
      "Registros eliminados: 57911 (14.37%)\n"
     ]
    }
   ],
   "source": [
    "# Contar registros antes\n",
    "cursor = conn.execute(\"SELECT COUNT(*) FROM alquileres\")\n",
    "total_antes = cursor.fetchone()[0]\n",
    "\n",
    "# Eliminar inconsistencias\n",
    "query_delete_inconsistencias = \"\"\"\n",
    "DELETE FROM alquileres\n",
    "WHERE\n",
    "    property_rooms < 1 AND (property_surface_total IS NULL OR property_surface_total <= 0)\n",
    "    OR (property_bedrooms = 0 AND property_rooms > 1)\n",
    "    OR (property_surface_total - property_surface_covered < 0 AND ABS(property_surface_total - property_surface_covered) > 1)\n",
    "    OR property_surface_total <= 0 \n",
    "    OR property_surface_covered <= 0\n",
    "    OR property_bedrooms > property_rooms + 2\n",
    "    OR (property_rooms > 0 AND (property_surface_covered IS NULL OR property_surface_total IS NULL))\n",
    "    OR property_price = 0;\n",
    "\"\"\"\n",
    "conn.execute(query_delete_inconsistencias)\n",
    "conn.commit()\n",
    "\n",
    "# Contar registros después\n",
    "cursor = conn.execute(\"SELECT COUNT(*) FROM alquileres\")\n",
    "total_despues = cursor.fetchone()[0]\n",
    "\n",
    "# Cargar DataFrame filtrado\n",
    "query_filtrado = \"SELECT * FROM alquileres\"\n",
    "df_filtrado = pd.read_sql(query_filtrado, conn)\n",
    "\n",
    "# Calcular y mostrar porcentaje eliminado\n",
    "eliminados = total_antes - total_despues\n",
    "porcentaje_eliminado = (eliminados / total_antes) * 100 if total_antes > 0 else 0\n",
    "\n",
    "print(f\"Registros eliminados: {eliminados} ({porcentaje_eliminado:.2f}%)\")"
   ]
  },
  {
   "cell_type": "markdown",
   "id": "4f03b183",
   "metadata": {},
   "source": [
    "Observamos que eliminamos aproximadamente un 15% de los datos, lo cual nos parece aceptable para nuestra transformación posterior"
   ]
  },
  {
   "cell_type": "markdown",
   "id": "629fe577",
   "metadata": {},
   "source": [
    "### Normalización de datos"
   ]
  },
  {
   "cell_type": "markdown",
   "id": "f25db5da",
   "metadata": {},
   "source": [
    "Analizamos que las columnas place_l2 y place_l3 estén siempre bien escritas. Por ejemplo que no haya diferencias del estilo 'laplata', 'La plata', 'La Plata', etc"
   ]
  },
  {
   "cell_type": "code",
   "execution_count": 271,
   "id": "4af32155",
   "metadata": {},
   "outputs": [
    {
     "name": "stdout",
     "output_type": "stream",
     "text": [
      "['Montevideo', 'Entre Ríos', 'Maldonado', 'Bs.As. G.B.A. Zona Norte', 'Córdoba', 'Mendoza', 'Neuquén', 'Capital Federal', 'Canelones', 'Misiones', 'Santa Fe', 'Bs.As. G.B.A. Zona Oeste', 'Salta', 'Bs.As. G.B.A. Zona Sur', 'Buenos Aires Interior', 'San Juan', 'Michigan', 'Buenos Aires Costa Atlántica', 'Chubut', 'Tucumán', 'Río Negro', 'Corrientes', 'La Pampa', 'Colonia', 'San Luis', 'Jujuy', 'Florida', 'Tierra Del Fuego', 'Santiago Del Estero', 'Santa Catarina', 'Chaco', 'Rocha', 'Catamarca', 'Rio Grande do Norte', 'Santa Cruz', 'São Paulo', 'Maryland', 'Miami', 'La Rioja', 'Pennsylvania']\n"
     ]
    }
   ],
   "source": [
    "# Listar los valores únicos de place_l2\n",
    "valores = pd.read_sql(\"SELECT DISTINCT place_l2 FROM alquileres WHERE place_l2 IS NOT NULL\", conn)\n",
    "print(valores['place_l2'].tolist())"
   ]
  },
  {
   "cell_type": "code",
   "execution_count": 272,
   "id": "8f7091bd",
   "metadata": {},
   "outputs": [
    {
     "name": "stdout",
     "output_type": "stream",
     "text": [
      "place_l2 - Bs.As. G.B.A. Zona Norte: ['Bs.As. G.B.A. Zona Norte', 'Bs.As. G.B.A. Zona Oeste', 'Bs.As. G.B.A. Zona Sur']\n",
      "place_l3 - Pilar: ['Pilar', 'Pila']\n",
      "place_l3 - Flores: ['Flores', 'Floresta']\n",
      "place_l3 - Barracas: ['Barracas', 'Barrancas']\n",
      "place_l3 - Monteros: ['Monteros', 'Morteros']\n",
      "place_l3 - La Caldera: ['La Caldera', 'La Calera']\n",
      "place_l3 - Gualeguaychú: ['Gualeguaychú', 'Gualeguay']\n",
      "place_l3 - San Cristobal: ['San Cristobal', 'San Cristóbal']\n",
      "place_l3 - General San Martín: ['General San Martín', 'Villa General San Martín']\n",
      "place_l3 - Las Tapias: ['Las Tapias', 'Las Talitas']\n",
      "place_l3 - Capilla del Rosario: ['Capilla del Rosario', 'Villa del Rosario']\n",
      "place_l3 - Cariló: ['Cariló', 'Catriló']\n",
      "place_l3 - San Antonio de Areco: ['San Antonio de Areco', 'San Antonio de Arredondo']\n",
      "place_l3 - General Alvear: ['General Alvear', 'General Alvarado']\n",
      "place_l3 - Villa de María: ['Villa de María', 'Villa María']\n"
     ]
    }
   ],
   "source": [
    "from rapidfuzz import fuzz\n",
    "import pandas as pd\n",
    "\n",
    "def agrupar_similares(conn, columna, umbral=85):\n",
    "    # Obtener valores únicos de la columna\n",
    "    query = f\"SELECT DISTINCT {columna} FROM alquileres WHERE {columna} IS NOT NULL\"\n",
    "    valores = pd.read_sql(query, conn)\n",
    "    valores_unicos = valores[columna].dropna().unique()\n",
    "    \n",
    "    grupos_similares = {}\n",
    "    for val in valores_unicos:\n",
    "        if any(val in g for g in grupos_similares.values()):\n",
    "            continue\n",
    "        similares = [v for v in valores_unicos if fuzz.ratio(val, v) >= umbral]\n",
    "        grupos_similares[val] = similares\n",
    "\n",
    "    # Mostrar grupos\n",
    "    for clave, grupo in grupos_similares.items():\n",
    "        if len(grupo) > 1:\n",
    "            print(f\"{columna} - {clave}: {grupo}\")\n",
    "\n",
    "# Usar la función para place_l2 y place_l3\n",
    "agrupar_similares(conn, 'place_l2')\n",
    "agrupar_similares(conn, 'place_l3')"
   ]
  },
  {
   "cell_type": "markdown",
   "id": "4015aea0",
   "metadata": {},
   "source": [
    "Vemos que hay valores por corregir..."
   ]
  },
  {
   "cell_type": "code",
   "execution_count": 273,
   "id": "72573bd2",
   "metadata": {},
   "outputs": [],
   "source": [
    "query = \"\"\"\n",
    "UPDATE alquileres SET place_l3 = 'San Cristobal' WHERE place_l3 = 'San Cristóbal';\n",
    "\"\"\"\n",
    "conn.executescript(query)\n",
    "conn.commit()"
   ]
  },
  {
   "cell_type": "markdown",
   "id": "3fe7298d",
   "metadata": {},
   "source": [
    "Realizo una normalización de localidades"
   ]
  },
  {
   "cell_type": "code",
   "execution_count": 274,
   "id": "097a59ca",
   "metadata": {},
   "outputs": [],
   "source": [
    "# Crear tabla de localidades (si no existe)\n",
    "conn.execute(\"\"\"\n",
    "CREATE TABLE IF NOT EXISTS localidades (\n",
    "    id_localidad INTEGER PRIMARY KEY AUTOINCREMENT,\n",
    "    nombre TEXT,\n",
    "    provincia TEXT,\n",
    "    UNIQUE(nombre, provincia)\n",
    ")\n",
    "\"\"\")\n",
    "conn.commit()"
   ]
  },
  {
   "cell_type": "markdown",
   "id": "5d0f77e3",
   "metadata": {},
   "source": [
    "Inserto en la tabla todas las combinaciones únicas de localidad y provincia que aparecen en mi tabla."
   ]
  },
  {
   "cell_type": "code",
   "execution_count": 275,
   "id": "8e3b235e",
   "metadata": {},
   "outputs": [],
   "source": [
    "# Insertar localidades únicas desde alquileres\n",
    "conn.execute(\"\"\"\n",
    "INSERT OR IGNORE INTO localidades (nombre, provincia)\n",
    "SELECT DISTINCT place_l3, place_l2\n",
    "FROM alquileres\n",
    "WHERE place_l3 IS NOT NULL AND place_l2 IS NOT NULL\n",
    "\"\"\")\n",
    "conn.commit()"
   ]
  },
  {
   "cell_type": "markdown",
   "id": "bc32e106",
   "metadata": {},
   "source": [
    "Agrego una columna id_localidad en la tabla alquileres para guardar la referencia a la localidad normalizada."
   ]
  },
  {
   "cell_type": "code",
   "execution_count": 276,
   "id": "18ceb7ae",
   "metadata": {},
   "outputs": [],
   "source": [
    "# Agregar columna id_localidad (si no existe)\n",
    "try:\n",
    "    conn.execute(\"ALTER TABLE alquileres ADD COLUMN id_localidad INTEGER\")\n",
    "except Exception:\n",
    "    pass  # Si ya existe, ignora el error"
   ]
  },
  {
   "cell_type": "markdown",
   "id": "bc930b8b",
   "metadata": {},
   "source": [
    "Para cada fila de alquileres, busco el id de la localidad correspondiente y lo guardo en la nueva columna; haciendo que las columnas place_l2 y place_l3 ya no sean necesarias"
   ]
  },
  {
   "cell_type": "code",
   "execution_count": 277,
   "id": "4ff918ae",
   "metadata": {},
   "outputs": [],
   "source": [
    "# Actualizar id_localidad en alquileres\n",
    "conn.execute(\"\"\"\n",
    "UPDATE alquileres\n",
    "SET id_localidad = (\n",
    "    SELECT id_localidad FROM localidades\n",
    "    WHERE localidades.nombre = alquileres.place_l3\n",
    "      AND localidades.provincia = alquileres.place_l2\n",
    ")\n",
    "WHERE place_l3 IS NOT NULL AND place_l2 IS NOT NULL\n",
    "\"\"\")\n",
    "conn.commit()"
   ]
  },
  {
   "cell_type": "code",
   "execution_count": null,
   "id": "a9b51684",
   "metadata": {},
   "outputs": [
    {
     "name": "stdout",
     "output_type": "stream",
     "text": [
      "Tablas 'alquileres' y 'localidades' persistidas en mi_base.sqlite\n"
     ]
    }
   ],
   "source": [
    "# Persistir ambas tablas 'alquileres' y 'localidades' en el archivo mi_base.sqlite\n",
    "\n",
    "# Abrir conexión al archivo en disco\n",
    "conn_disk = sqlite3.connect(\"/home/milton/Desktop/Bases de datos/TP-BDD-1C2025/mi_base.sqlite\")\n",
    "\n",
    "query = \"\"\"\n",
    "SELECT \n",
    "    latitud,\n",
    "    longitud,\n",
    "    place_l2,\n",
    "    place_l3,\n",
    "    operation,\n",
    "    property_type,\n",
    "    property_rooms,\n",
    "    property_bedrooms,\n",
    "    property_surface_total,\n",
    "    property_surface_covered,\n",
    "    property_price,\n",
    "    property_currency,\n",
    "    property_title,\n",
    "    id_localidad\n",
    "FROM alquileres;\n",
    "\"\"\"\n",
    "\n",
    "df = pd.read_sql(query, conn)\n",
    "\n",
    "# Ver si se persistió la limpieza\n",
    " \n",
    "# Persistir en el archivo .sqlite\n",
    "conn_disk = sqlite3.connect(\"/home/milton/Desktop/Bases de datos/TP-BDD-1C2025/mi_base.sqlite\")\n",
    "df.to_sql('alquileres', conn_disk, if_exists='replace', index=False)\n",
    "\n",
    "# Persistir localidades igual que antes\n",
    "localidades_df = pd.read_sql(\"SELECT * FROM localidades\", conn)\n",
    "localidades_df.to_sql('localidades', conn_disk, if_exists='replace', index=False)\n",
    "\n",
    "conn_disk.commit()\n",
    "conn_disk.close()\n",
    "print(\"Tablas 'alquileres' y 'localidades' persistidas en mi_base.sqlite\")"
   ]
  }
 ],
 "metadata": {
  "kernelspec": {
   "display_name": "Python 3",
   "language": "python",
   "name": "python3"
  },
  "language_info": {
   "codemirror_mode": {
    "name": "ipython",
    "version": 3
   },
   "file_extension": ".py",
   "mimetype": "text/x-python",
   "name": "python",
   "nbconvert_exporter": "python",
   "pygments_lexer": "ipython3",
   "version": "3.13.3"
  }
 },
 "nbformat": 4,
 "nbformat_minor": 5
}
