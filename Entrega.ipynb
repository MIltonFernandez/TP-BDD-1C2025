{
 "cells": [
  {
   "cell_type": "markdown",
   "id": "fdad3892",
   "metadata": {},
   "source": [
    "#### ¿Dónde está alojada la base de datos?\n",
    "\n",
    "La base **SQLite** está alojada localmente en un archivo llamado `mi_base.sqlite`.  \n",
    "No requiere servidor: todo ocurre de forma local.\n",
    "\n",
    "---\n",
    "\n",
    "#### ¿Qué motor de base de datos se utiliza?\n",
    "\n",
    "Se utiliza **SQLite**, un motor ligero ideal para bases de datos **pequeñas y medianas**.  \n",
    "Es embebido, no necesita configuración de servidor ni instalación adicional.\n",
    "\n",
    "---\n",
    "\n",
    "#### ¿Cómo nos conectamos a la base de datos?\n",
    "\n",
    "Se utiliza el módulo `sqlite3` de Python (incluido en la librería estándar).  \n",
    "La conexión se realiza con:\n",
    "\n",
    "```python\n",
    "conn = sqlite3.connect(\"mi_base.sqlite\")\n",
    "\n",
    "conn.execute(...)         # Para comandos directos\n",
    "pd.read_sql(query, conn)  # Para cargar resultados como DataFrame"
   ]
  },
  {
   "cell_type": "code",
   "execution_count": 1,
   "id": "b5d9a9fd",
   "metadata": {},
   "outputs": [
    {
     "name": "stdout",
     "output_type": "stream",
     "text": [
      "   Unnamed: 0  id                                               link  \\\n",
      "0           0   1  https://www.portalinmobiliario.com/mlc-1321634...   \n",
      "1           1   2  https://www.portalinmobiliario.com/mlc-1321564...   \n",
      "2           2   3  https://www.portalinmobiliario.com/mlc-1321897...   \n",
      "3           3   4  https://www.portalinmobiliario.com/mlc-1318618...   \n",
      "4           4   5  https://www.portalinmobiliario.com/mlc-1321526...   \n",
      "\n",
      "                                            titulo     precio  \\\n",
      "0  edificio av. departamental- vista norte piso 16   400000.0   \n",
      "1     edificio garcía reyes- vista poniente piso 5   410000.0   \n",
      "2      edificio arquería- vista norponiente piso 3  1950000.0   \n",
      "3      edificio borgetto- vista norponiente piso 1   305500.0   \n",
      "4                edificio carmen- vista sur piso 2   365000.0   \n",
      "\n",
      "                                           direction  superficie_total  \\\n",
      "0  av. departamental 900 - 1200, lo vial, san miguel              34.0   \n",
      "1      garcía reyes 1 - 300, barrio yungay, santiago            5438.0   \n",
      "2   arquería 1200 - 1500, rotonda atenas, las condes             190.0   \n",
      "3       radal 1200 - 1500, blanqueado, quinta normal             389.0   \n",
      "4             carmen 1 - 300, santa isabel, santiago              38.0   \n",
      "\n",
      "   superficie_util  superficie_terraza  ambientes  dormitorios  banos  \\\n",
      "0             34.0                 0.0          3            2      1   \n",
      "1             52.0                 2.0          3            2      1   \n",
      "2            140.0                50.0          5            4      2   \n",
      "3             32.0                62.0          2            1      1   \n",
      "4             33.0                 5.0          2            1      1   \n",
      "\n",
      "   estacionamientos  cant_max_habitantes  bodegas  gastos_comunes orientacion  \\\n",
      "0               1.0                    3      NaN         40000.0        None   \n",
      "1               1.0                    3      1.0        140000.0        None   \n",
      "2               2.0                    7      1.0        400000.0        None   \n",
      "3               NaN                    2      NaN         53000.0        None   \n",
      "4               NaN                    2      1.0         45000.0        None   \n",
      "\n",
      "  tipo_departamento  cantidad_pisos  departamentos_piso  numero_piso_unidad  \\\n",
      "0              None              23                  13                  16   \n",
      "1              None               5                  24                   5   \n",
      "2              None               7                   4                   3   \n",
      "3              None              20                  17                   1   \n",
      "4              None               9                  22                   2   \n",
      "\n",
      "   codigo                       fecha  \\\n",
      "0  459500  2023-02-11 00:00:00.000000   \n",
      "1  329093  2023-02-11 00:00:00.000000   \n",
      "2  458633  2023-02-11 00:00:00.000000   \n",
      "3  217301  2023-02-11 00:00:00.000000   \n",
      "4  458745  2023-02-11 00:00:00.000000   \n",
      "\n",
      "                              published_time   latitude  longitude  \\\n",
      "0  publicado hace 2 días por assetplan chile -33.504288 -70.650536   \n",
      "1  publicado hace 2 días por assetplan chile -33.444885 -70.670891   \n",
      "2  publicado hace 2 días por assetplan chile -33.420437 -70.563446   \n",
      "3  publicado hace 4 días por assetplan chile -33.437840 -70.703300   \n",
      "4  publicado hace 2 días por assetplan chile -33.444862 -70.642990   \n",
      "\n",
      "          comuna                   published divisa              region  \n",
      "0     San miguel  2023-02-10 17:56:38.667783  pesos  Rm (metropolitana)  \n",
      "1       Santiago  2023-02-10 17:56:38.667831  pesos  Rm (metropolitana)  \n",
      "2     Las condes  2023-02-10 17:56:38.667839  pesos  Rm (metropolitana)  \n",
      "3  Quinta normal  2023-02-08 17:56:38.667845  pesos  Rm (metropolitana)  \n",
      "4       Santiago  2023-02-10 17:56:38.667851  pesos  Rm (metropolitana)  \n"
     ]
    }
   ],
   "source": [
    "import sqlite3\n",
    "import pandas as pd\n",
    "\n",
    "# Mostrar todas las columnas al imprimir\n",
    "pd.set_option('display.max_columns', None)\n",
    "\n",
    "# Leer CSV con pandas\n",
    "df = pd.read_csv(\"./archive/alquiler_02_11_2023cc.csv\")\n",
    "\n",
    "# Conectar (o crear) base SQLite local\n",
    "conn = sqlite3.connect(\"mi_base.sqlite\")\n",
    "\n",
    "# Cargar el DataFrame a una tabla llamada 'alquileres'\n",
    "df.to_sql('alquileres', conn, if_exists='replace', index=False)\n",
    "\n",
    "# Consultar las primeras 5 filas con SQL\n",
    "query = \"SELECT * FROM alquileres LIMIT 5;\"\n",
    "df_head = pd.read_sql(query, conn)\n",
    "\n",
    "print(df_head)\n"
   ]
  },
  {
   "cell_type": "markdown",
   "id": "e0353282",
   "metadata": {},
   "source": [
    "Realizamos una observación del tipo de información de hay en cada columna"
   ]
  },
  {
   "cell_type": "code",
   "execution_count": 2,
   "id": "caab492c",
   "metadata": {},
   "outputs": [
    {
     "name": "stdout",
     "output_type": "stream",
     "text": [
      "    cid                 name     type  notnull dflt_value  pk\n",
      "0     0           Unnamed: 0  INTEGER        0       None   0\n",
      "1     1                   id  INTEGER        0       None   0\n",
      "2     2                 link     TEXT        0       None   0\n",
      "3     3               titulo     TEXT        0       None   0\n",
      "4     4               precio     REAL        0       None   0\n",
      "5     5            direction     TEXT        0       None   0\n",
      "6     6     superficie_total     REAL        0       None   0\n",
      "7     7      superficie_util     REAL        0       None   0\n",
      "8     8   superficie_terraza     REAL        0       None   0\n",
      "9     9            ambientes  INTEGER        0       None   0\n",
      "10   10          dormitorios  INTEGER        0       None   0\n",
      "11   11                banos  INTEGER        0       None   0\n",
      "12   12     estacionamientos     REAL        0       None   0\n",
      "13   13  cant_max_habitantes  INTEGER        0       None   0\n",
      "14   14              bodegas     REAL        0       None   0\n",
      "15   15       gastos_comunes     REAL        0       None   0\n",
      "16   16          orientacion     REAL        0       None   0\n",
      "17   17    tipo_departamento     TEXT        0       None   0\n",
      "18   18       cantidad_pisos  INTEGER        0       None   0\n",
      "19   19   departamentos_piso  INTEGER        0       None   0\n",
      "20   20   numero_piso_unidad  INTEGER        0       None   0\n",
      "21   21               codigo     TEXT        0       None   0\n",
      "22   22                fecha     TEXT        0       None   0\n",
      "23   23       published_time     TEXT        0       None   0\n",
      "24   24             latitude     REAL        0       None   0\n",
      "25   25            longitude     REAL        0       None   0\n",
      "26   26               comuna     TEXT        0       None   0\n",
      "27   27            published     TEXT        0       None   0\n",
      "28   28               divisa     TEXT        0       None   0\n",
      "29   29               region     TEXT        0       None   0\n"
     ]
    }
   ],
   "source": [
    "info_query = \"PRAGMA table_info(alquileres);\"\n",
    "df_info = pd.read_sql(info_query, conn)\n",
    "\n",
    "print(df_info)"
   ]
  },
  {
   "cell_type": "markdown",
   "id": "489ba689",
   "metadata": {},
   "source": [
    "Seleccionamos las columnas con las que nos interesaría trabajar"
   ]
  },
  {
   "cell_type": "code",
   "execution_count": 3,
   "id": "70229a7f",
   "metadata": {},
   "outputs": [
    {
     "name": "stdout",
     "output_type": "stream",
     "text": [
      "                                            titulo     precio  \\\n",
      "0  edificio av. departamental- vista norte piso 16   400000.0   \n",
      "1     edificio garcía reyes- vista poniente piso 5   410000.0   \n",
      "2      edificio arquería- vista norponiente piso 3  1950000.0   \n",
      "3      edificio borgetto- vista norponiente piso 1   305500.0   \n",
      "4                edificio carmen- vista sur piso 2   365000.0   \n",
      "\n",
      "                                           direction  superficie_total  \\\n",
      "0  av. departamental 900 - 1200, lo vial, san miguel              34.0   \n",
      "1      garcía reyes 1 - 300, barrio yungay, santiago            5438.0   \n",
      "2   arquería 1200 - 1500, rotonda atenas, las condes             190.0   \n",
      "3       radal 1200 - 1500, blanqueado, quinta normal             389.0   \n",
      "4             carmen 1 - 300, santa isabel, santiago              38.0   \n",
      "\n",
      "   superficie_util  ambientes  dormitorios  banos tipo_departamento  \\\n",
      "0             34.0          3            2      1              None   \n",
      "1             52.0          3            2      1              None   \n",
      "2            140.0          5            4      2              None   \n",
      "3             32.0          2            1      1              None   \n",
      "4             33.0          2            1      1              None   \n",
      "\n",
      "          comuna              region  estacionamientos  bodegas  \n",
      "0     San miguel  Rm (metropolitana)               1.0      NaN  \n",
      "1       Santiago  Rm (metropolitana)               1.0      1.0  \n",
      "2     Las condes  Rm (metropolitana)               2.0      1.0  \n",
      "3  Quinta normal  Rm (metropolitana)               NaN      NaN  \n",
      "4       Santiago  Rm (metropolitana)               NaN      1.0  \n"
     ]
    }
   ],
   "source": [
    "query = \"\"\"\n",
    "SELECT titulo, precio, direction, superficie_total, superficie_util,\n",
    "       ambientes, dormitorios, banos, tipo_departamento, comuna, region, estacionamientos, bodegas\n",
    "FROM alquileres;\n",
    "\"\"\"\n",
    "\n",
    "df_filtrado = pd.read_sql(query, conn)\n",
    "print(df_filtrado.head())"
   ]
  },
  {
   "cell_type": "markdown",
   "id": "bd04bc04",
   "metadata": {},
   "source": [
    "Realizamos un análisis porcentual de datos faltantes por columna, teniendo en cuenta el siguiente criterio:\n",
    "\n",
    "\n",
    "| % de valores faltantes | Acción                    |\n",
    "|------------------------|-----------------------------------------------------|\n",
    "| > 50%                  | Eliminar la columna                                 |\n",
    "| 20% - 50%              | Evaluar si imputar o conservar según relevancia     |\n",
    "| < 20%                  | Imputar los valores faltantes                       |\n",
    "| 0% - 5%                | No es preocupante |\n"
   ]
  },
  {
   "cell_type": "code",
   "execution_count": 4,
   "id": "11fb7b4d",
   "metadata": {},
   "outputs": [
    {
     "name": "stdout",
     "output_type": "stream",
     "text": [
      "titulo                2.01 %\n",
      "precio                 0.0 %\n",
      "direction              0.0 %\n",
      "superficie_total       0.0 %\n",
      "superficie_util        0.0 %\n",
      "ambientes              0.0 %\n",
      "dormitorios            0.0 %\n",
      "banos                  0.0 %\n",
      "tipo_departamento    52.52 %\n",
      "comuna                3.86 %\n",
      "region                3.86 %\n",
      "estacionamientos      69.7 %\n",
      "bodegas              74.64 %\n",
      "dtype: object\n"
     ]
    }
   ],
   "source": [
    "filas_totales = df_filtrado.shape[0]\n",
    "porcentaje_faltante_columna = (df_filtrado.isna().sum() / filas_totales) * 100\n",
    "print(porcentaje_faltante_columna.round(2).astype(str) + \" %\")\n"
   ]
  },
  {
   "cell_type": "markdown",
   "id": "360000c7",
   "metadata": {},
   "source": [
    "Por lo tanto, eliminamos las columnas tipo_departamento, estacionamientos y bodegas"
   ]
  },
  {
   "cell_type": "code",
   "execution_count": 5,
   "id": "51ca3f2a",
   "metadata": {},
   "outputs": [
    {
     "name": "stdout",
     "output_type": "stream",
     "text": [
      "                                            titulo     precio  \\\n",
      "0  edificio av. departamental- vista norte piso 16   400000.0   \n",
      "1     edificio garcía reyes- vista poniente piso 5   410000.0   \n",
      "2      edificio arquería- vista norponiente piso 3  1950000.0   \n",
      "3      edificio borgetto- vista norponiente piso 1   305500.0   \n",
      "4                edificio carmen- vista sur piso 2   365000.0   \n",
      "\n",
      "                                           direction  superficie_total  \\\n",
      "0  av. departamental 900 - 1200, lo vial, san miguel              34.0   \n",
      "1      garcía reyes 1 - 300, barrio yungay, santiago            5438.0   \n",
      "2   arquería 1200 - 1500, rotonda atenas, las condes             190.0   \n",
      "3       radal 1200 - 1500, blanqueado, quinta normal             389.0   \n",
      "4             carmen 1 - 300, santa isabel, santiago              38.0   \n",
      "\n",
      "   superficie_util  ambientes  dormitorios  banos tipo_departamento  \\\n",
      "0             34.0          3            2      1              None   \n",
      "1             52.0          3            2      1              None   \n",
      "2            140.0          5            4      2              None   \n",
      "3             32.0          2            1      1              None   \n",
      "4             33.0          2            1      1              None   \n",
      "\n",
      "          comuna              region  \n",
      "0     San miguel  Rm (metropolitana)  \n",
      "1       Santiago  Rm (metropolitana)  \n",
      "2     Las condes  Rm (metropolitana)  \n",
      "3  Quinta normal  Rm (metropolitana)  \n",
      "4       Santiago  Rm (metropolitana)  \n"
     ]
    }
   ],
   "source": [
    "query = \"\"\"\n",
    "SELECT titulo, precio, direction, superficie_total, superficie_util,\n",
    "       ambientes, dormitorios, banos, tipo_departamento, comuna, region\n",
    "FROM alquileres;\n",
    "\"\"\"\n",
    "\n",
    "df_filtrado = pd.read_sql(query, conn)\n",
    "print(df_filtrado.head())"
   ]
  },
  {
   "cell_type": "markdown",
   "id": "a8d0ff58",
   "metadata": {},
   "source": [
    "Procedemos a hacer un análisis de outliers en la variable \"precio\", para esto calculamos el primer cuartil (Q1) y el tercer cuartil (Q3) de la distribución de precios, y a partir de ellos obtenemos el rango intercuartílico (IQR = Q3 - Q1).\n",
    "\n",
    "Luego, extraemos las filas donde el precio está fuera de estos límites (por debajo del límite inferior o por encima del superior) para identificar los valores extremos."
   ]
  },
  {
   "cell_type": "code",
   "execution_count": 6,
   "id": "103fb39c",
   "metadata": {},
   "outputs": [
    {
     "name": "stdout",
     "output_type": "stream",
     "text": [
      "Límite inferior: 15000.0, Límite superior: 775000.0\n"
     ]
    }
   ],
   "source": [
    "# Calcular Q1 y Q3 de la columna 'precio'\n",
    "q1 = df_filtrado['precio'].quantile(0.25)\n",
    "q3 = df_filtrado['precio'].quantile(0.75)\n",
    "iqr = q3 - q1\n",
    "\n",
    "# Calcular límites para detectar outliers\n",
    "lower_bound = q1 - 1.5 * iqr\n",
    "upper_bound = q3 + 1.5 * iqr\n",
    "\n",
    "print(f\"Límite inferior: {lower_bound}, Límite superior: {upper_bound}\")\n",
    "\n",
    "query = f\"\"\"\n",
    "SELECT *\n",
    "FROM alquileres\n",
    "WHERE precio < {lower_bound} OR precio > {upper_bound}\n",
    "\"\"\"\n",
    "outliers_df = pd.read_sql(query, conn)"
   ]
  },
  {
   "cell_type": "markdown",
   "id": "9f90c5eb",
   "metadata": {},
   "source": [
    "Grafico el IQR (que representa la dispersión central del conjunto de datos):"
   ]
  },
  {
   "cell_type": "code",
   "execution_count": 7,
   "id": "79ea522a",
   "metadata": {},
   "outputs": [
    {
     "data": {
      "image/png": "[encoded data removed]",
      "text/plain": [
       "<Figure size 1000x500 with 1 Axes>"
      ]
     },
     "metadata": {},
     "output_type": "display_data"
    }
   ],
   "source": [
    "import seaborn as sns\n",
    "import matplotlib.pyplot as plt\n",
    "\n",
    "plt.figure(figsize=(10, 5))\n",
    "sns.boxplot(x=df_filtrado['precio'])\n",
    "plt.title('Boxplot de Precio')\n",
    "plt.xlabel('Precio')\n",
    "plt.show()"
   ]
  },
  {
   "cell_type": "markdown",
   "id": "26ab8927",
   "metadata": {},
   "source": [
    "Comparamos la data previamente identificada como outliers (outliers_df) con el resto del conjunto de datos (df_filtrado) para observar el comportamiento y distribución de dichos valores atípicos en relación a la variable precio y la superficie_total."
   ]
  },
  {
   "cell_type": "code",
   "execution_count": 8,
   "id": "db818a28",
   "metadata": {},
   "outputs": [
    {
     "data": {
      "image/png": "[encoded data removed]",
      "text/plain": [
       "<Figure size 1000x600 with 1 Axes>"
      ]
     },
     "metadata": {},
     "output_type": "display_data"
    }
   ],
   "source": [
    "plt.figure(figsize=(10, 6))\n",
    "sns.scatterplot(data=df_filtrado, x='superficie_total', y='precio', label='Datos normales', alpha=0.5)\n",
    "sns.scatterplot(data=outliers_df, x='superficie_total', y='precio', color='red', label='Outliers')\n",
    "plt.title('Comparación entre precios normales y outliers')\n",
    "plt.legend()\n",
    "plt.grid(True)\n",
    "plt.show()\n"
   ]
  },
  {
   "cell_type": "markdown",
   "id": "89068ade",
   "metadata": {},
   "source": [
    "En primer lugar, observamos outliers con precios elevados pero con superficie total igual a cero, además de casos con precios de alquiler iguales a cero, lo cual es incoherente y podría afectar nuestro análisis posterior."
   ]
  },
  {
   "cell_type": "code",
   "execution_count": 9,
   "id": "42116fca",
   "metadata": {},
   "outputs": [
    {
     "name": "stdout",
     "output_type": "stream",
     "text": [
      "Cantidad de filas con precio o superficie = 0: 504\n"
     ]
    }
   ],
   "source": [
    "query = \"\"\"\n",
    "SELECT COUNT(*) AS cantidad\n",
    "FROM alquileres\n",
    "WHERE precio = 0\n",
    "   OR superficie_total = 0\n",
    "   OR superficie_util = 0\n",
    "\"\"\"\n",
    "resultado = pd.read_sql(query, conn)\n",
    "print(f\"Cantidad de filas con precio o superficie = 0: {resultado['cantidad'][0]}\")\n",
    "\n"
   ]
  },
  {
   "cell_type": "markdown",
   "id": "49a96074",
   "metadata": {},
   "source": [
    "Borramos las filas con precio o superficie = 0"
   ]
  },
  {
   "cell_type": "code",
   "execution_count": 10,
   "id": "9cc44253",
   "metadata": {},
   "outputs": [],
   "source": [
    "query_delete = \"\"\"\n",
    "DELETE FROM alquileres\n",
    "WHERE precio = 0\n",
    "   OR superficie_total = 0\n",
    "   OR superficie_util = 0\n",
    "\"\"\"\n",
    "conn.execute(query_delete)\n",
    "conn.commit()\n"
   ]
  },
  {
   "cell_type": "markdown",
   "id": "3cded9d1",
   "metadata": {},
   "source": [
    "Análizamos un nuevo caso ilógico: El hecho de que haya alquileres cuya superficie total sea menor a su superficie útil"
   ]
  },
  {
   "cell_type": "code",
   "execution_count": 11,
   "id": "960ddfa7",
   "metadata": {},
   "outputs": [
    {
     "name": "stdout",
     "output_type": "stream",
     "text": [
      "Cantidad de filas con superficie_total < superficie_util: 21\n",
      "Porcentaje respecto al total: 1.46 %\n"
     ]
    }
   ],
   "source": [
    "# Total de filas\n",
    "total_filas = pd.read_sql(\"SELECT COUNT(*) AS total FROM alquileres\", conn)['total'][0]\n",
    "\n",
    "# Filas con inconsistencia: superficie_total < superficie_util\n",
    "query = \"\"\"\n",
    "SELECT COUNT(*) AS cantidad\n",
    "FROM alquileres\n",
    "WHERE superficie_total < superficie_util\n",
    "\"\"\"\n",
    "resultado = pd.read_sql(query, conn)\n",
    "cantidad = resultado['cantidad'][0]\n",
    "\n",
    "# Porcentaje\n",
    "porcentaje = (cantidad / total_filas) * 100\n",
    "print(f\"Cantidad de filas con superficie_total < superficie_util: {cantidad}\")\n",
    "print(f\"Porcentaje respecto al total: {porcentaje:.2f} %\")\n"
   ]
  },
  {
   "cell_type": "markdown",
   "id": "ec8691bb",
   "metadata": {},
   "source": [
    "Eliminamos dichas filas (que representan un 1.46% del total de los datos)"
   ]
  },
  {
   "cell_type": "code",
   "execution_count": 12,
   "id": "0012070c",
   "metadata": {},
   "outputs": [],
   "source": [
    "delete_query = \"\"\"\n",
    "DELETE FROM alquileres\n",
    "WHERE superficie_total < superficie_util\n",
    "\"\"\"\n",
    "\n",
    "conn.execute(delete_query)\n",
    "conn.commit()  # Asegura que se guarden los cambios"
   ]
  }
 ],
 "metadata": {
  "kernelspec": {
   "display_name": "Python 3",
   "language": "python",
   "name": "python3"
  },
  "language_info": {
   "codemirror_mode": {
    "name": "ipython",
    "version": 3
   },
   "file_extension": ".py",
   "mimetype": "text/x-python",
   "name": "python",
   "nbconvert_exporter": "python",
   "pygments_lexer": "ipython3",
   "version": "3.13.3"
  }
 },
 "nbformat": 4,
 "nbformat_minor": 5
}
