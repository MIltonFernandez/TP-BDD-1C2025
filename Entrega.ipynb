{
 "cells": [
  {
   "cell_type": "markdown",
   "id": "fdad3892",
   "metadata": {},
   "source": [
    "#### ¿Dónde está alojada la base de datos?\n",
    "\n",
    "La base **SQLite** está alojada localmente en un archivo llamado `mi_base.sqlite`.  \n",
    "No requiere servidor: todo ocurre de forma local.\n",
    "\n",
    "---\n",
    "\n",
    "#### ¿Qué motor de base de datos se utiliza?\n",
    "\n",
    "Se utiliza **SQLite**, un motor ligero ideal para bases de datos **pequeñas y medianas**.  \n",
    "Es embebido, no necesita configuración de servidor ni instalación adicional.\n",
    "\n",
    "---\n",
    "\n",
    "#### ¿Cómo nos conectamos a la base de datos?\n",
    "\n",
    "Se utiliza el módulo `sqlite3` de Python (incluido en la librería estándar).  \n",
    "La conexión se realiza con:\n",
    "\n",
    "```python\n",
    "conn = sqlite3.connect(\"mi_base.sqlite\")\n",
    "\n",
    "conn.execute(...)         # Para comandos directos\n",
    "pd.read_sql(query, conn)  # Para cargar resultados como DataFrame"
   ]
  },
  {
   "cell_type": "code",
   "execution_count": null,
   "id": "b5d9a9fd",
   "metadata": {},
   "outputs": [],
   "source": [
    "import sqlite3\n",
    "import pandas as pd\n",
    "\n",
    "# Mostrar todas las columnas al imprimir\n",
    "pd.set_option('display.max_columns', None)\n",
    "\n",
    "# Leer CSV con pandas\n",
    "df = pd.read_csv(\"./archive/alquiler_02_11_2023cc.csv\")\n",
    "\n",
    "# Conectar (o crear) base SQLite local\n",
    "conn = sqlite3.connect(\"mi_base.sqlite\")\n",
    "\n",
    "# Cargar el DataFrame a una tabla llamada 'alquileres'\n",
    "df.to_sql('alquileres', conn, if_exists='replace', index=False)\n",
    "\n",
    "# Consultar las primeras 5 filas con SQL\n",
    "query = \"SELECT * FROM alquileres LIMIT 5;\"\n",
    "df_head = pd.read_sql(query, conn)\n",
    "\n",
    "print(df_head)\n"
   ]
  },
  {
   "cell_type": "markdown",
   "id": "e0353282",
   "metadata": {},
   "source": [
    "Realizamos una observación del tipo de información de hay en cada columna"
   ]
  },
  {
   "cell_type": "code",
   "execution_count": null,
   "id": "caab492c",
   "metadata": {},
   "outputs": [],
   "source": [
    "info_query = \"PRAGMA table_info(alquileres);\"\n",
    "df_info = pd.read_sql(info_query, conn)\n",
    "\n",
    "print(df_info)"
   ]
  },
  {
   "cell_type": "markdown",
   "id": "489ba689",
   "metadata": {},
   "source": [
    "Seleccionamos las columnas con las que nos interesaría trabajar"
   ]
  },
  {
   "cell_type": "code",
   "execution_count": null,
   "id": "70229a7f",
   "metadata": {},
   "outputs": [],
   "source": [
    "query = \"\"\"\n",
    "SELECT titulo, precio, direction, superficie_total, superficie_util,\n",
    "       ambientes, dormitorios, banos, tipo_departamento, comuna, region, estacionamientos, bodegas\n",
    "FROM alquileres;\n",
    "\"\"\"\n",
    "\n",
    "df_filtrado = pd.read_sql(query, conn)\n",
    "print(df_filtrado.head())"
   ]
  },
  {
   "cell_type": "markdown",
   "id": "bd04bc04",
   "metadata": {},
   "source": [
    "Realizamos un análisis porcentual de datos faltantes por columna, teniendo en cuenta el siguiente criterio:\n",
    "\n",
    "\n",
    "| % de valores faltantes | Acción                    |\n",
    "|------------------------|-----------------------------------------------------|\n",
    "| > 50%                  | Eliminar la columna                                 |\n",
    "| 20% - 50%              | Evaluar si imputar o conservar según relevancia     |\n",
    "| < 20%                  | Imputar los valores faltantes                       |\n",
    "| 0% - 5%                | No es preocupante |\n"
   ]
  },
  {
   "cell_type": "code",
   "execution_count": null,
   "id": "11fb7b4d",
   "metadata": {},
   "outputs": [],
   "source": [
    "filas_totales = df_filtrado.shape[0]\n",
    "porcentaje_faltante_columna = (df_filtrado.isna().sum() / filas_totales) * 100\n",
    "print(porcentaje_faltante_columna.round(2).astype(str) + \" %\")\n"
   ]
  },
  {
   "cell_type": "markdown",
   "id": "7a39bd1b",
   "metadata": {},
   "source": []
  },
  {
   "cell_type": "markdown",
   "id": "360000c7",
   "metadata": {},
   "source": [
    "Por lo tanto, eliminamos las columnas tipo_departamento, estacionamientos y bodegas"
   ]
  },
  {
   "cell_type": "code",
   "execution_count": null,
   "id": "51ca3f2a",
   "metadata": {},
   "outputs": [],
   "source": [
    "query = \"\"\"\n",
    "SELECT titulo, precio, direction, superficie_total, superficie_util,\n",
    "       ambientes, dormitorios, banos, comuna, region\n",
    "FROM alquileres;\n",
    "\"\"\"\n",
    "\n",
    "df_filtrado = pd.read_sql(query, conn)\n",
    "print(df_filtrado.head())"
   ]
  },
  {
   "cell_type": "markdown",
   "id": "a8d0ff58",
   "metadata": {},
   "source": [
    "Procedemos a hacer un análisis de outliers en la variable \"precio\", para esto calculamos el primer cuartil (Q1) y el tercer cuartil (Q3) de la distribución de precios, y a partir de ellos obtenemos el rango intercuartílico (IQR = Q3 - Q1).\n",
    "\n",
    "Luego, extraemos las filas donde el precio está fuera de estos límites (por debajo del límite inferior o por encima del superior) para identificar los valores extremos."
   ]
  },
  {
   "cell_type": "code",
   "execution_count": null,
   "id": "103fb39c",
   "metadata": {},
   "outputs": [],
   "source": [
    "# Calcular Q1 y Q3 de la columna 'precio'\n",
    "q1 = df_filtrado['precio'].quantile(0.25)\n",
    "q3 = df_filtrado['precio'].quantile(0.75)\n",
    "iqr = q3 - q1\n",
    "\n",
    "# Calcular límites para detectar outliers\n",
    "lower_bound = q1 - 1.5 * iqr\n",
    "upper_bound = q3 + 1.5 * iqr\n",
    "\n",
    "print(f\"Límite inferior: {lower_bound}, Límite superior: {upper_bound}\")\n",
    "\n",
    "query = f\"\"\"\n",
    "SELECT *\n",
    "FROM alquileres\n",
    "WHERE precio < {lower_bound} OR precio > {upper_bound}\n",
    "\"\"\"\n",
    "outliers_df = pd.read_sql(query, conn)"
   ]
  },
  {
   "cell_type": "markdown",
   "id": "9f90c5eb",
   "metadata": {},
   "source": [
    "Grafico el IQR (que representa la dispersión central del conjunto de datos):"
   ]
  },
  {
   "cell_type": "code",
   "execution_count": null,
   "id": "79ea522a",
   "metadata": {},
   "outputs": [],
   "source": [
    "import seaborn as sns\n",
    "import matplotlib.pyplot as plt\n",
    "\n",
    "plt.figure(figsize=(10, 5))\n",
    "sns.boxplot(x=df_filtrado['precio'])\n",
    "plt.title('Boxplot de Precio')\n",
    "plt.xlabel('Precio')\n",
    "plt.show()"
   ]
  },
  {
   "cell_type": "markdown",
   "id": "26ab8927",
   "metadata": {},
   "source": [
    "Comparamos la data previamente identificada como outliers (outliers_df) con el resto del conjunto de datos (df_filtrado) para observar el comportamiento y distribución de dichos valores atípicos en relación a la variable precio y la superficie_total."
   ]
  },
  {
   "cell_type": "code",
   "execution_count": null,
   "id": "db818a28",
   "metadata": {},
   "outputs": [],
   "source": [
    "plt.figure(figsize=(10, 6))\n",
    "sns.scatterplot(data=df_filtrado, x='superficie_total', y='precio', label='Datos normales', alpha=0.5)\n",
    "sns.scatterplot(data=outliers_df, x='superficie_total', y='precio', color='red', label='Outliers')\n",
    "plt.title('Comparación entre precios normales y outliers')\n",
    "plt.legend()\n",
    "plt.grid(True)\n",
    "plt.show()\n"
   ]
  },
  {
   "cell_type": "markdown",
   "id": "89068ade",
   "metadata": {},
   "source": [
    "En primer lugar, observamos outliers con precios elevados pero con superficie total igual a cero, además de casos con precios de alquiler iguales a cero, lo cual es incoherente y podría afectar nuestro análisis posterior."
   ]
  },
  {
   "cell_type": "code",
   "execution_count": null,
   "id": "42116fca",
   "metadata": {},
   "outputs": [],
   "source": [
    "query = \"\"\"\n",
    "SELECT COUNT(*) AS cantidad\n",
    "FROM alquileres\n",
    "WHERE precio = 0\n",
    "   OR superficie_total = 0\n",
    "   OR superficie_util = 0\n",
    "\"\"\"\n",
    "resultado = pd.read_sql(query, conn)\n",
    "print(f\"Cantidad de filas con precio o superficie = 0: {resultado['cantidad'][0]}\")\n",
    "\n"
   ]
  },
  {
   "cell_type": "markdown",
   "id": "49a96074",
   "metadata": {},
   "source": [
    "Borramos las filas con precio o superficie = 0"
   ]
  },
  {
   "cell_type": "code",
   "execution_count": null,
   "id": "9cc44253",
   "metadata": {},
   "outputs": [],
   "source": [
    "query_delete = \"\"\"\n",
    "DELETE FROM alquileres\n",
    "WHERE precio = 0\n",
    "   OR superficie_total = 0\n",
    "   OR superficie_util = 0\n",
    "\"\"\"\n",
    "conn.execute(query_delete)\n",
    "conn.commit()\n"
   ]
  },
  {
   "cell_type": "markdown",
   "id": "3cded9d1",
   "metadata": {},
   "source": [
    "Análizamos un nuevo caso ilógico: El hecho de que haya alquileres cuya superficie total sea menor a su superficie útil"
   ]
  },
  {
   "cell_type": "code",
   "execution_count": null,
   "id": "960ddfa7",
   "metadata": {},
   "outputs": [],
   "source": [
    "# Total de filas\n",
    "total_filas = pd.read_sql(\"SELECT COUNT(*) AS total FROM alquileres\", conn)['total'][0]\n",
    "\n",
    "# Filas con inconsistencia: superficie_total < superficie_util\n",
    "query = \"\"\"\n",
    "SELECT COUNT(*) AS cantidad\n",
    "FROM alquileres\n",
    "WHERE superficie_total < superficie_util\n",
    "\"\"\"\n",
    "resultado = pd.read_sql(query, conn)\n",
    "cantidad = resultado['cantidad'][0]\n",
    "\n",
    "# Porcentaje\n",
    "porcentaje = (cantidad / total_filas) * 100\n",
    "print(f\"Cantidad de filas con superficie_total < superficie_util: {cantidad}\")\n",
    "print(f\"Porcentaje respecto al total: {porcentaje:.2f} %\")\n"
   ]
  },
  {
   "cell_type": "markdown",
   "id": "ec8691bb",
   "metadata": {},
   "source": [
    "Eliminamos dichas filas (que representan un 1.46% del total de los datos)"
   ]
  },
  {
   "cell_type": "code",
   "execution_count": null,
   "id": "0012070c",
   "metadata": {},
   "outputs": [],
   "source": [
    "delete_query = \"\"\"\n",
    "DELETE FROM alquileres\n",
    "WHERE superficie_total < superficie_util\n",
    "\"\"\"\n",
    "\n",
    "conn.execute(delete_query)\n",
    "conn.commit()  # Asegura que se guarden los cambios"
   ]
  },
  {
   "cell_type": "markdown",
   "id": "ed2a22da",
   "metadata": {},
   "source": [
    "LIMPIEZAS OPCIONALES: A) Un alquiler sin baños no es habitable ni se le puede brindar un uso doméstico o de oficina, ocurre lo mismo para ambientes no pueden ser menores que 1"
   ]
  },
  {
   "cell_type": "code",
   "execution_count": null,
   "id": "4ee6fe80",
   "metadata": {},
   "outputs": [],
   "source": [
    "query_delete_opt = \"DELETE FROM alquileres WHERE banos = 0 OR ambientes < 1\"\n",
    "conn.execute(query_delete_opt)\n",
    "conn.commit()   "
   ]
  },
  {
   "cell_type": "markdown",
   "id": "7c0f74a6",
   "metadata": {},
   "source": [
    "B) Otro punto a tener en cuenta es la columna \"cantidad_max_habitantes\" la cual cuenta con muchas filas en 0, lo cuál lo hace algo ilógico. Si bien no es una columna con la que no se decidio trabajar no tiene sentido que ningun habitante pueda estar en el alquiler\n",
    "PD: en cuanto a la columna dormitorios se sobre entiende que si no tiene dormitorios es un monoambiente,por lo tanto, debería validarse esta relacion"
   ]
  },
  {
   "cell_type": "code",
   "execution_count": null,
   "id": "0762b57e",
   "metadata": {},
   "outputs": [],
   "source": [
    "query_delete = \"DELETE FROM alquileres WHERE cantidad_max_habitantes < 1 OR (dormitorios = 0 AND ambientes > 1)\"\n",
    "conn.execute(query_delete)\n",
    "conn.commit()"
   ]
  },
  {
   "cell_type": "markdown",
   "id": "5a892ef8",
   "metadata": {},
   "source": [
    "Nuevamente, ya con los datos limpios, volvemos a analizar con un gráfico los resultados"
   ]
  },
  {
   "cell_type": "code",
   "execution_count": null,
   "id": "dc1d11b2",
   "metadata": {},
   "outputs": [],
   "source": [
    "plt.figure(figsize=(10, 6))\n",
    "sns.scatterplot(data=df_filtrado, x='superficie_total', y='precio', label='Datos normales', alpha=0.5)\n",
    "sns.scatterplot(data=outliers_df, x='superficie_total', y='precio', color='red', label='Outliers')\n",
    "plt.title('Comparación entre precios normales y outliers')\n",
    "plt.legend()\n",
    "plt.grid(True)\n",
    "plt.show()"
   ]
  }
 ],
 "metadata": {
  "kernelspec": {
   "display_name": "Python 3",
   "language": "python",
   "name": "python3"
  },
  "language_info": {
   "codemirror_mode": {
    "name": "ipython",
    "version": 3
   },
   "file_extension": ".py",
   "mimetype": "text/x-python",
   "name": "python",
   "nbconvert_exporter": "python",
   "pygments_lexer": "ipython3",
   "version": "3.8.10"
  }
 },
 "nbformat": 4,
 "nbformat_minor": 5
}
